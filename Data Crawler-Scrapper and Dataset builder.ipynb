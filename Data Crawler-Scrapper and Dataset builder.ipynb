{
 "cells": [
  {
   "cell_type": "markdown",
   "metadata": {},
   "source": [
    "Scraping a dataset:The first step is to build a rich data set. We will collect textual and visual data for each movie.\n",
    "Data scrapping is done from tmdb,www.themoviedb.org, as it's Open Source along with a handy api library: tmdbsimple which is very well documented for use. Although a free api key(available at signup) is required for dealing with data.\n",
    "We are concerned about two features for each movie: \n",
    "1. Movie Plot\n",
    "2. Poster for the corresponding movie."
   ]
  },
  {
   "cell_type": "code",
   "execution_count": 1,
   "metadata": {
    "collapsed": false
   },
   "outputs": [],
   "source": [
    "import urllib2\n",
    "import requests\n",
    "import json\n",
    "import imdb\n",
    "import time\n",
    "import itertools\n",
    "import wget\n",
    "import os\n",
    "import tmdbsimple as tmdb\n",
    "import numpy as np\n",
    "import random\n",
    "import matplotlib\n",
    "import matplotlib.pyplot as plt\n",
    "%matplotlib inline\n",
    "import seaborn as sns\n",
    "import pickle"
   ]
  },
  {
   "cell_type": "code",
   "execution_count": 2,
   "metadata": {
    "collapsed": false
   },
   "outputs": [
    {
     "name": "stdout",
     "output_type": "stream",
     "text": [
      "Folder already exists\n"
     ]
    },
    {
     "data": {
      "text/plain": [
       "'movie_posters/'"
      ]
     },
     "execution_count": 2,
     "metadata": {},
     "output_type": "execute_result"
    }
   ],
   "source": [
    "posterFolder='movie_posters/'\n",
    "if posterFolder.split('/')[0] in os.listdir('./'):\n",
    "    print('Folder already exists')\n",
    "else:\n",
    "    os.mkdir('./'+posterFolder)\n",
    "posterFolder"
   ]
  },
  {
   "cell_type": "code",
   "execution_count": 3,
   "metadata": {
    "collapsed": true
   },
   "outputs": [],
   "source": [
    "apiKey='b2db12a77bd83b7fa87202026d7f7ca5'\n",
    "tmdb.API_KEY = apiKey\n",
    "searchInstance = tmdb.Search()\n",
    "def get_poster(movie):\n",
    "    searchResponse = searchInstance.movie(query=movie)\n",
    "    id=searchResponse['results'][0]['id']\n",
    "    movie = tmdb.Movies(id)\n",
    "    posterPath=movie.info()['poster_path']\n",
    "    title=movie.info()['original_title']\n",
    "    url='image.tmdb.org/t/p/original'+posterPath\n",
    "    title='_'.join(title.split(' '))\n",
    "    strCmd='wget -O '+posterFolder+title+'.jpg '+url\n",
    "    os.system(strCmd)\n",
    "\n",
    "def get_movie_id(movie):\n",
    "    searchResponse = searchInstance.movie(query=movie)\n",
    "    movieId=searchResponse['results'][0]['id']\n",
    "    return movieId\n",
    "\n",
    "def get_movie_info(movie):\n",
    "    searchResponse = searchInstance.movie(query=movie)\n",
    "    id=searchResponse['results'][0]['id']\n",
    "    movie=tmdb.Movies(id)\n",
    "    info=movie.info()\n",
    "    return info\n",
    "\n",
    "def get_movie_genres(movie):\n",
    "    searchResponse = searchInstance.movie(query=movie)\n",
    "    id=searchResponse['results'][0]['id']\n",
    "    movie = tmdb.Movies(id)\n",
    "    genres=movie.info()['genres']\n",
    "    return genres\n",
    "\n",
    "def get_overview(movie):\n",
    "    searchResponse=searchInstance.movie(query=movie)\n",
    "    id=searchResponse['results'][0]['id']\n",
    "    movie=tmdb.Movies(id)\n",
    "    overview=movie.info()['overview']\n",
    "    return overview\n"
   ]
  },
  {
   "cell_type": "code",
   "execution_count": 5,
   "metadata": {
    "collapsed": false,
    "scrolled": true
   },
   "outputs": [
    {
     "name": "stdout",
     "output_type": "stream",
     "text": [
      "{u'poster_path': u'/bxVxZb5O9OxCO0oRUNdCnpy9NST.jpg', u'production_countries': [{u'iso_3166_1': u'NZ', u'name': u'New Zealand'}, {u'iso_3166_1': u'US', u'name': u'United States of America'}], u'revenue': 871368364, u'overview': u'Young hobbit Frodo Baggins, after inheriting a mysterious ring from his uncle Bilbo, must leave his home in order to keep it from falling into the hands of its evil creator. Along the way, a fellowship is formed to protect the ringbearer and make sure that the ring arrives at its final destination: Mt. Doom, the only place where it can be destroyed.', u'video': False, u'id': 120, u'genres': [{u'id': 12, u'name': u'Adventure'}, {u'id': 14, u'name': u'Fantasy'}, {u'id': 28, u'name': u'Action'}], u'title': u'The Lord of the Rings: The Fellowship of the Ring', u'tagline': u'One ring to rule them all', u'vote_count': 8062, u'homepage': u'http://www.lordoftherings.net/', u'belongs_to_collection': {u'backdrop_path': u'/bccR2CGTWVVSZAG0yqmy3DIvhTX.jpg', u'poster_path': u'/p4UokEk2XnjjRTdXGe6DLYXlbI1.jpg', u'id': 119, u'name': u'The Lord of the Rings Collection'}, u'original_language': u'en', u'status': u'Released', u'spoken_languages': [{u'iso_639_1': u'en', u'name': u'English'}], u'imdb_id': u'tt0120737', u'adult': False, u'backdrop_path': u'/pIUvQ9Ed35wlWhY2oU6OmwEsmzG.jpg', u'production_companies': [{u'name': u'WingNut Films', u'id': 11}, {u'name': u'New Line Cinema', u'id': 12}, {u'name': u'The Saul Zaentz Company', u'id': 5237}], u'release_date': u'2001-12-18', u'popularity': 10.959195, u'original_title': u'The Lord of the Rings: The Fellowship of the Ring', u'budget': 93000000, u'vote_average': 8.0, u'runtime': 178}\n",
      "=====================================================================\n",
      "Young hobbit Frodo Baggins, after inheriting a mysterious ring from his uncle Bilbo, must leave his home in order to keep it from falling into the hands of its evil creator. Along the way, a fellowship is formed to protect the ringbearer and make sure that the ring arrives at its final destination: Mt. Doom, the only place where it can be destroyed.\n",
      "=====================================================================\n",
      "[{u'id': 12, u'name': u'Adventure'}, {u'id': 14, u'name': u'Fantasy'}, {u'id': 28, u'name': u'Action'}]\n",
      "=====================================================================\n",
      "120\n",
      "=====================================================================\n",
      "None\n"
     ]
    }
   ],
   "source": [
    "#cross check for correctness of the functions\n",
    "info=get_movie_info(\"Lord of the Rings\")\n",
    "print info\n",
    "print '====================================================================='\n",
    "print get_overview(\"Lord of the Rings\")\n",
    "print '====================================================================='\n",
    "print get_movie_genres(\"Lord of the Rings\")\n",
    "print '====================================================================='\n",
    "print get_movie_id(\"Lord of the rings\")\n",
    "print '====================================================================='\n",
    "print get_poster(\"Lord of the Rings\") #fetches me a poster to the desired path"
   ]
  },
  {
   "cell_type": "code",
   "execution_count": 6,
   "metadata": {
    "collapsed": false,
    "scrolled": true
   },
   "outputs": [
    {
     "name": "stdout",
     "output_type": "stream",
     "text": [
      "All the Movie data from TMDB gets stored in a dictionary with the following keys for access:\n"
     ]
    },
    {
     "data": {
      "text/plain": [
       "[u'poster_path',\n",
       " u'production_countries',\n",
       " u'revenue',\n",
       " u'overview',\n",
       " u'video',\n",
       " u'id',\n",
       " u'genres',\n",
       " u'title',\n",
       " u'tagline',\n",
       " u'vote_count',\n",
       " u'homepage',\n",
       " u'belongs_to_collection',\n",
       " u'original_language',\n",
       " u'status',\n",
       " u'spoken_languages',\n",
       " u'imdb_id',\n",
       " u'adult',\n",
       " u'backdrop_path',\n",
       " u'production_companies',\n",
       " u'release_date',\n",
       " u'popularity',\n",
       " u'original_title',\n",
       " u'budget',\n",
       " u'vote_average',\n",
       " u'runtime']"
      ]
     },
     "execution_count": 6,
     "metadata": {},
     "output_type": "execute_result"
    }
   ],
   "source": [
    "print 'All the Movie data from TMDB gets stored in a dictionary with the following keys for access:'\n",
    "info.keys()"
   ]
  },
  {
   "cell_type": "code",
   "execution_count": 7,
   "metadata": {
    "collapsed": false
   },
   "outputs": [
    {
     "name": "stdout",
     "output_type": "stream",
     "text": [
      "20\n"
     ]
    }
   ],
   "source": [
    "allMovies=tmdb.Movies()\n",
    "topMovies=allMovies.popular()\n",
    "\n",
    "# This is a dictionary, and to access results we use the key 'results' which returns info on 20 movies\n",
    "print(len(topMovies['results']))\n",
    "top20Movs=topMovies['results']"
   ]
  },
  {
   "cell_type": "code",
   "execution_count": 8,
   "metadata": {
    "collapsed": false
   },
   "outputs": [
    {
     "name": "stdout",
     "output_type": "stream",
     "text": [
      "Here is all the information you can get on this movie - \n",
      "{u'poster_path': u'/qL0w9X1dVT3dnkZg3SrYtPFUHMs.jpg', u'title': u'Dawn of the Planet of the Apes', u'overview': u'A group of scientists in San Francisco struggle to stay alive in the aftermath of a plague that is wiping out humanity, while Caesar tries to maintain dominance over his community of intelligent apes.', u'release_date': u'2014-06-26', u'popularity': 111.085918, u'original_title': u'Dawn of the Planet of the Apes', u'backdrop_path': u'/rjUl3pd1LHVOVfG4IGcyA1cId5l.jpg', u'vote_count': 3848, u'video': False, u'adult': False, u'vote_average': 7.3, u'genre_ids': [878, 28, 18, 53], u'id': 119450, u'original_language': u'en'}\n",
      "\n",
      "\n",
      "The title of the first movie is -  Dawn of the Planet of the Apes\n"
     ]
    }
   ],
   "source": [
    "firstMovie=top20Movs[0]\n",
    "print \"Here is all the information you can get on this movie - \"\n",
    "print firstMovie\n",
    "print \"\\n\\nThe title of the first movie is - \", firstMovie['title']"
   ]
  },
  {
   "cell_type": "code",
   "execution_count": 9,
   "metadata": {
    "collapsed": false
   },
   "outputs": [
    {
     "name": "stdout",
     "output_type": "stream",
     "text": [
      "Dawn of the Planet of the Apes\n",
      "Beauty and the Beast\n",
      "Rise of the Planet of the Apes\n",
      "Despicable Me 3\n",
      "Spider-Man: Homecoming\n"
     ]
    }
   ],
   "source": [
    "for i in range(len(top20Movs)):\n",
    "    mov=top20Movs[i]\n",
    "    title=mov['title']\n",
    "    print title\n",
    "    if i==4:\n",
    "        break"
   ]
  },
  {
   "cell_type": "code",
   "execution_count": 10,
   "metadata": {
    "collapsed": false
   },
   "outputs": [
    {
     "name": "stdout",
     "output_type": "stream",
     "text": [
      "[878, 28, 18, 53]\n",
      "[10751, 14, 10749]\n",
      "[53, 28, 18, 878]\n",
      "[878, 12, 16, 35, 10751]\n",
      "[28, 12, 878]\n"
     ]
    }
   ],
   "source": [
    "for i in range(len(top20Movs)):\n",
    "    mov=top20Movs[i]\n",
    "    genres=mov['genre_ids']\n",
    "    print genres\n",
    "    if i==4:\n",
    "        break"
   ]
  },
  {
   "cell_type": "code",
   "execution_count": 11,
   "metadata": {
    "collapsed": false
   },
   "outputs": [
    {
     "data": {
      "text/plain": [
       "u'Drama'"
      ]
     },
     "execution_count": 11,
     "metadata": {},
     "output_type": "execute_result"
    }
   ],
   "source": [
    "# Create a tmdb genre object\n",
    "genreInstance=tmdb.Genres()\n",
    "# the list() method of the Genres() class returns a listing of all genres in the form of a dictionary.\n",
    "listOfGenres=genreInstance.list()['genres']\n",
    "(listOfGenres[6]['name'])"
   ]
  },
  {
   "cell_type": "code",
   "execution_count": 12,
   "metadata": {
    "collapsed": false,
    "scrolled": true
   },
   "outputs": [
    {
     "name": "stdout",
     "output_type": "stream",
     "text": [
      "Adventure\n",
      "[u'Action', u'Adventure', u'Animation', u'Comedy', u'Crime', u'Documentary', u'Drama', u'Family', u'Fantasy', u'History', u'Horror', u'Music', u'Mystery', u'Romance', u'Science Fiction', u'TV Movie', u'Thriller', u'War', u'Western']\n"
     ]
    }
   ],
   "source": [
    "#To create a map between genre id of each genre and name of the genre\n",
    "GenreIDToName={}\n",
    "genreNameBuild=[]\n",
    "for i in range(len(listOfGenres)):\n",
    "    genreId=listOfGenres[i]['id']\n",
    "    genreName=listOfGenres[i]['name']\n",
    "    genreNameBuild.append(genreName)\n",
    "    GenreIDToName[genreId]=genreName\n",
    "\n",
    "print GenreIDToName[12]\n",
    "print genreNameBuild"
   ]
  },
  {
   "cell_type": "markdown",
   "metadata": {},
   "source": [
    "Making use of the tmdb api, we will just pull results from the top 50 pages. The \"page\" attribute of the command top_movies=all_movies.popular() will be used for this.\n",
    "\n",
    "Data retrieved using tmdb api is then saved into pickle files for easy usage when required."
   ]
  },
  {
   "cell_type": "code",
   "execution_count": 13,
   "metadata": {
    "collapsed": false,
    "scrolled": false
   },
   "outputs": [
    {
     "name": "stdout",
     "output_type": "stream",
     "text": [
      "Pulling movie list,\n",
      "Completed!\n"
     ]
    }
   ],
   "source": [
    "# Comment out this cell once the data is saved into pickle file.\n",
    "allMovies=tmdb.Movies()\n",
    "top1000Movies=[]\n",
    "print('Pulling movie list,')\n",
    "for i in range(1,51):\n",
    "    if i%15==0:\n",
    "        time.sleep(7)#to adjust the specified range time lag between number of requests\n",
    "    moviesOnThisPage=allMovies.popular(page=i)['results']\n",
    "    top1000Movies.extend(moviesOnThisPage)\n",
    "len(top1000Movies)\n",
    "f3=open('movie_list123.pckl','wb')\n",
    "pickle.dump(top1000Movies,f3)\n",
    "f3.close()\n",
    "print('Completed!')"
   ]
  },
  {
   "cell_type": "markdown",
   "metadata": {},
   "source": [
    "# Pairwise analysis of movie Genres\n",
    "As our dataset is multi label, simply looking at the distribution of genres is not sufficient. It might be beneficial to see which genres co-occur, as it might shed some light on inherent biases in our dataset. \n",
    "\n",
    "\n",
    "So for the top 1000 movies, here is some pairwise analysis for genre distributions. Goal is to see which genres occur together in the same movie. So, we first define a function which takes a list and makes all possible pairs from it. Then, we pull the list of genres for a movie and run this function on the list of genres to get all pairs of genres which occur together."
   ]
  },
  {
   "cell_type": "code",
   "execution_count": 14,
   "metadata": {
    "collapsed": false
   },
   "outputs": [
    {
     "name": "stdout",
     "output_type": "stream",
     "text": [
      "(18, 18)\n",
      "19\n"
     ]
    },
    {
     "data": {
      "text/plain": [
       "<matplotlib.axes._subplots.AxesSubplot at 0x7f879b5508d0>"
      ]
     },
     "execution_count": 14,
     "metadata": {},
     "output_type": "execute_result"
    },
    {
     "data": {
      "image/png": "[encoded data removed]",
      "text/plain": [
       "<matplotlib.figure.Figure at 0x7f879b550990>"
      ]
     },
     "metadata": {},
     "output_type": "display_data"
    }
   ],
   "source": [
    "f3=open('movie_list123.pckl','rb')\n",
    "top1000Movies=pickle.load(f3)\n",
    "f3.close()\n",
    "\n",
    "# This function generates all possible pairs of movies\n",
    "def list2pairs(l):\n",
    "    # itertools.combinations(l,2) makes all pairs of length 2 from list l.\n",
    "    pairs=list(itertools.combinations(l, 2))\n",
    "    # then the one item pairs, as duplicate pairs aren't accounted for by itertools\n",
    "    for i in l:\n",
    "        pairs.append([i,i])\n",
    "    return pairs\n",
    "\n",
    "# get all genre lists pairs from all movies\n",
    "allPairs = []\n",
    "for movie in top1000Movies:\n",
    "    allPairs.extend(list2pairs(movie['genre_ids']))\n",
    "    \n",
    "nrIds = np.unique(allPairs)\n",
    "visGrid = np.zeros((len(nrIds), len(nrIds)))\n",
    "for p in allPairs:\n",
    "    visGrid[np.argwhere(nrIds==p[0]), np.argwhere(nrIds==p[1])]+=1\n",
    "    if p[1] != p[0]:\n",
    "        visGrid[np.argwhere(nrIds==p[1]), np.argwhere(nrIds==p[0])]+=1\n",
    "        \n",
    "        \n",
    "print visGrid.shape\n",
    "print len(GenreIDToName.keys())\n",
    "#============================Did not understand yet=================================================================\n",
    "annotLookup = []\n",
    "for i in xrange(len(nrIds)):\n",
    "    annotLookup.append(GenreIDToName[nrIds[i]])\n",
    "\n",
    "sns.heatmap(visGrid, xticklabels=annotLookup, yticklabels=annotLookup)\n",
    "#==================================================================================================================="
   ]
  },
  {
   "cell_type": "markdown",
   "metadata": {},
   "source": [
    "The above image shows how often the genres occur together, as a heatmap.\n",
    "The diagonal in above heatmap corresponds to self-pairs, i.e. number of times a genre, say drama occurred with drama. Which equals count of the total times that genre occurred.\n",
    "Some observations:\n",
    "<ul>\n",
    "<li>A lot of dramas in the data set</li>\n",
    "<li>No documentaries</li>\n",
    "<li>No TV Movies</li>\n",
    "<li>Horror is a very distinct label</li>\n",
    "<li>Romance is also not too widely spread</li>\n",
    "</ul>"
   ]
  },
  {
   "cell_type": "markdown",
   "metadata": {},
   "source": [
    "# Delving Deeper into co-occurrence of genres\n",
    "\n",
    "Looking for nice groups of genres that co-occur and checking if it makes sense logically? In some ways, that would isolate the co-occurrence of some genres, and heighten the co-occurrence of others.\n",
    "\n",
    "While the data may not show that directly, but we can check if that's possible. The technique called biclustering is used for that."
   ]
  },
  {
   "cell_type": "code",
   "execution_count": 15,
   "metadata": {
    "collapsed": true
   },
   "outputs": [],
   "source": [
    "from sklearn.cluster import SpectralCoclustering"
   ]
  },
  {
   "cell_type": "code",
   "execution_count": 16,
   "metadata": {
    "collapsed": false
   },
   "outputs": [
    {
     "data": {
      "image/png": "[encoded data removed]",
      "text/plain": [
       "<matplotlib.figure.Figure at 0x7f8791f54790>"
      ]
     },
     "metadata": {},
     "output_type": "display_data"
    }
   ],
   "source": [
    "model = SpectralCoclustering(n_clusters=5)\n",
    "model.fit(visGrid)\n",
    "\n",
    "fitData = visGrid[np.argsort(model.row_labels_)]\n",
    "fitData = fitData[:, np.argsort(model.column_labels_)]\n",
    "\n",
    "annotLookupSorted = []\n",
    "for i in np.argsort(model.row_labels_):\n",
    "    annotLookupSorted.append(GenreIDToName[nrIds[i]])\n",
    "\n",
    "sns.heatmap(fitData, xticklabels=annotLookupSorted, yticklabels=annotLookupSorted, annot=False)\n",
    "plt.title(\"After biclustering; rearranged to show biclusters\")\n",
    "\n",
    "plt.show()"
   ]
  },
  {
   "cell_type": "markdown",
   "metadata": {},
   "source": [
    "Looking at the above graph, groups of movie genres automatically emerge!\n",
    "\n",
    "Intuitively - Crime, Sci-Fi, Mystery, Action, Horror, Drama, Thriller, etc co-occur. AND, Romance, Fantasy, Family, Music, Adventure, etc co-occur. Which is infact quite intuitive also.\n",
    "\n",
    "##### From above graph, we can sort the data into the following genre categories - \"Drama, Action, ScienceFiction, exciting(thriller, crime, mystery), uplifting(adventure, fantasy, animation, comedy, romance, family), Horror, History\""
   ]
  },
  {
   "cell_type": "markdown",
   "metadata": {},
   "source": [
    "We now sample 100 movies per genre. Problem is that the sorting is by popular movies, so they will overlap.\n",
    "\n",
    "Need to exclude movies that were already sampled."
   ]
  },
  {
   "cell_type": "code",
   "execution_count": 29,
   "metadata": {
    "collapsed": false
   },
   "outputs": [
    {
     "name": "stdout",
     "output_type": "stream",
     "text": [
      "Pulled movies genres\n"
     ]
    }
   ],
   "source": [
    "movies=[]\n",
    "baseYear=2017\n",
    "\n",
    "\n",
    "doneIds=[]\n",
    "for gId in nrIds:\n",
    "#    print('Pulling movies for genre ID '+gId)\n",
    "    baseYear -= 1\n",
    "    for page in xrange(1,6,1):\n",
    "        time.sleep(0.5)\n",
    "    \n",
    "        url = 'https://api.themoviedb.org/3/discover/movie?api_key=' + apiKey\n",
    "        url += '&language=en-US&sort_by=popularity.desc&year=' + str(baseYear) \n",
    "        url += '&with_genres=' + str(gId) + '&page=' + str(page)\n",
    "\n",
    "        data = urllib2.urlopen(url).read()\n",
    "\n",
    "        dataDict = json.loads(data)\n",
    "        movies.extend(dataDict[\"results\"])\n",
    "    doneIds.append(str(g_id))\n",
    "print (\"Pulled movies genres\")"
   ]
  },
  {
   "cell_type": "code",
   "execution_count": 21,
   "metadata": {
    "collapsed": true
   },
   "outputs": [],
   "source": [
    "#f6=open(\"movies_for_posters\",'wb')\n",
    "#pickle.dump(movies,f6)\n",
    "#f6.close()"
   ]
  },
  {
   "cell_type": "code",
   "execution_count": 24,
   "metadata": {
    "collapsed": true
   },
   "outputs": [],
   "source": [
    "f6=open(\"movies_for_posters\",'rb')\n",
    "movies=pickle.load(f6)\n",
    "f6.close()"
   ]
  },
  {
   "cell_type": "code",
   "execution_count": 2,
   "metadata": {
    "collapsed": false
   },
   "outputs": [],
   "source": [
    "#movies just for check"
   ]
  },
  {
   "cell_type": "code",
   "execution_count": 28,
   "metadata": {
    "collapsed": false
   },
   "outputs": [
    {
     "name": "stdout",
     "output_type": "stream",
     "text": [
      "Movies in total  1653  movies\n",
      "1587\n",
      "After eliminating duplicates we have  1587  movies\n"
     ]
    }
   ],
   "source": [
    "#to remove duplicate movies\n",
    "movieIds = [m['id'] for m in movies]\n",
    "print \"Movies in total \",len(movieIds),\" movies\"\n",
    "movieIds=np.unique(movieIds)\n",
    "print len(movieIds)\n",
    "seenBefore=[]\n",
    "noDuplicateMovies=[]\n",
    "for i in range(len(movies)):\n",
    "    movie=movies[i]\n",
    "    id=movie['id']\n",
    "    if id in seenBefore:\n",
    "        continue\n",
    "#         print \"Seen before\"\n",
    "    else:\n",
    "        seenBefore.append(id)\n",
    "        noDuplicateMovies.append(movie)\n",
    "print \"After eliminating duplicates we have \",len(noDuplicateMovies), \" movies\""
   ]
  },
  {
   "cell_type": "code",
   "execution_count": 33,
   "metadata": {
    "collapsed": false
   },
   "outputs": [
    {
     "name": "stdout",
     "output_type": "stream",
     "text": [
      "('Total movies : ', 1653)\n",
      "Done with  300  movies!\n",
      "Trying to get poster for  Her\n",
      "Done with  600  movies!\n",
      "Trying to get poster for  The Hangover\n",
      "Done with  900  movies!\n",
      "Trying to get poster for  The Butterfly Effect 2\n",
      "Done with  1200  movies!\n",
      "Trying to get poster for  Breaking Dawn\n",
      "Done with  1500  movies!\n",
      "Trying to get poster for  The Other Side of Heaven\n",
      "Done with all the posters!\n"
     ]
    }
   ],
   "source": [
    "#pull out posters for movies\n",
    "posterMmovies=[]\n",
    "counter=0\n",
    "moviesNoPoster=[]\n",
    "print(\"Total movies : \",len(movies))\n",
    "for movie in movies:\n",
    "    id=movie['id']\n",
    "    title=movie['title']\n",
    "    if counter%300==0 and counter!=0:\n",
    "        print \"Done with \",counter,\" movies!\"\n",
    "        print \"Trying to get poster for \",title\n",
    "    try:\n",
    "        getPoster(title)\n",
    "        posterMovies.append(movie)\n",
    "    except:\n",
    "        try:\n",
    "            time.sleep(7)\n",
    "            getPoster(title)\n",
    "            posterMovies.append(movie)\n",
    "        except:\n",
    "            moviesNoPoster.append(movie)\n",
    "    counter+=1\n",
    "print(\"Done with all the posters!\")"
   ]
  },
  {
   "cell_type": "code",
   "execution_count": 34,
   "metadata": {
    "collapsed": false
   },
   "outputs": [
    {
     "name": "stdout",
     "output_type": "stream",
     "text": [
      "191\n",
      "1462\n"
     ]
    }
   ],
   "source": [
    "print len(moviesNoPoster)\n",
    "print len(posterMovies)"
   ]
  },
  {
   "cell_type": "code",
   "execution_count": 35,
   "metadata": {
    "collapsed": true
   },
   "outputs": [],
   "source": [
    "f=open('poster_movies.pckl','r')\n",
    "posterMovies=pickle.load(f)\n",
    "f.close()"
   ]
  },
  {
   "cell_type": "code",
   "execution_count": 39,
   "metadata": {
    "collapsed": false
   },
   "outputs": [],
   "source": [
    "f=open('no_poster_movies.pckl','r')\n",
    "moviesNoPoster=pickle.load(f)\n",
    "f.close()"
   ]
  },
  {
   "cell_type": "code",
   "execution_count": 1,
   "metadata": {
    "collapsed": false
   },
   "outputs": [],
   "source": [
    "#posterMovies just for a check"
   ]
  },
  {
   "cell_type": "markdown",
   "metadata": {},
   "source": [
    "Assume every movie can have multiple genres, and then it becomes a multi-label classification problem. For example, a movie can be Action, Horror and Adventure simultaneously. Thus, every movie can be more than one genre."
   ]
  },
  {
   "cell_type": "markdown",
   "metadata": {},
   "source": [
    "Implementation for genre prediction problem:\n",
    "<ul>\n",
    "  <li>Problem is framed here as a multi-label problem, i.e. we will try to predict multiple genres associated with a movie, which will be our output Y</li>\n",
    "  <li>We will use 2 different kinds of X - text and images.</li>\n",
    "  <li>For the text part - Input features being used to predict the genre is a form of the movie's plot available from TMDB using the property 'overview'. This will be our X.</li>\n",
    "  <li>For the image part - we will use the scraped poster images as our X.</li>\n",
    "</ul>"
   ]
  },
  {
   "cell_type": "markdown",
   "metadata": {},
   "source": [
    "### Some steps in data cleaning"
   ]
  },
  {
   "cell_type": "code",
   "execution_count": 43,
   "metadata": {
    "collapsed": false
   },
   "outputs": [
    {
     "data": {
      "text/plain": [
       "1559"
      ]
     },
     "execution_count": 43,
     "metadata": {},
     "output_type": "execute_result"
    }
   ],
   "source": [
    "moviesWithOverviews=[]\n",
    "for i in range(len(noDuplicateMovies)):\n",
    "    movie=noDuplicateMovies[i]\n",
    "    id=movie['id']\n",
    "    overview=movie['overview']\n",
    "    \n",
    "    if len(overview)==0:\n",
    "        continue\n",
    "    else:\n",
    "        moviesWithOverviews.append(movie)\n",
    "        \n",
    "len(moviesWithOverviews)"
   ]
  },
  {
   "cell_type": "markdown",
   "metadata": {},
   "source": [
    "Now let's store the genre's for these movies with overview in a list that we will later transform into a binarized vector."
   ]
  },
  {
   "cell_type": "code",
   "execution_count": 44,
   "metadata": {
    "collapsed": true
   },
   "outputs": [],
   "source": [
    "genres=[]\n",
    "allIds=[]\n",
    "for i in range(len(moviesWithOverviews)):\n",
    "    movie=moviesWithOverviews[i]\n",
    "    id=movie['id']\n",
    "    genreIds=movie['genre_ids']\n",
    "    genres.append(genreIds)\n",
    "    allIds.extend(genreIds)"
   ]
  },
  {
   "cell_type": "code",
   "execution_count": 45,
   "metadata": {
    "collapsed": false,
    "scrolled": false
   },
   "outputs": [
    {
     "name": "stdout",
     "output_type": "stream",
     "text": [
      "[0 0 0 0 0 0 0 0 0 0 0 0 0 0 0 0 0 0 0 1]\n",
      "[   12    14    16    18    27    28    35    36    37    53    80    99\n",
      "   878  9648 10402 10749 10751 10752 10769 10770]\n"
     ]
    }
   ],
   "source": [
    "from sklearn.preprocessing import MultiLabelBinarizer\n",
    "mlb=MultiLabelBinarizer()\n",
    "Y=mlb.fit_transform(genres)\n",
    "print Y[1558]       #last element\n",
    "print mlb.classes_"
   ]
  },
  {
   "cell_type": "code",
   "execution_count": 49,
   "metadata": {
    "collapsed": false,
    "scrolled": true
   },
   "outputs": [
    {
     "name": "stdout",
     "output_type": "stream",
     "text": [
      "(1559, 20)\n",
      "[328 243 239 652 214 439 402 141  47 450 240  44 250 187 117 230 265  82\n",
      "  19  90]\n"
     ]
    }
   ],
   "source": [
    "print Y.shape\n",
    "print np.sum(Y, axis=0)"
   ]
  },
  {
   "cell_type": "code",
   "execution_count": 51,
   "metadata": {
    "collapsed": false
   },
   "outputs": [
    {
     "data": {
      "text/plain": [
       "19"
      ]
     },
     "execution_count": 51,
     "metadata": {},
     "output_type": "execute_result"
    }
   ],
   "source": [
    "len(listOfGenres)"
   ]
  },
  {
   "cell_type": "markdown",
   "metadata": {},
   "source": [
    "So, the discrepancy observed here can be seen by observing dimensions of Y(1559, 20) and length of listOfGenres=19,\n",
    "\n",
    "Actually there is one genre that is not accounted for when retrieving genre list via tmdb genre object.\n",
    "On matching the two lists, we get to know that the extra genre id is 10769, which can is found using the code below"
   ]
  },
  {
   "cell_type": "code",
   "execution_count": 54,
   "metadata": {
    "collapsed": false
   },
   "outputs": [
    {
     "name": "stdout",
     "output_type": "stream",
     "text": [
      "10769\n"
     ]
    }
   ],
   "source": [
    "for i in set(allIds):\n",
    "    if i not in GenreIDToName.keys():\n",
    "        print i"
   ]
  },
  {
   "cell_type": "markdown",
   "metadata": {},
   "source": [
    "First I thought of ignoring all the movies with this genre, but looking into the dataset, I found there were to many movies with this particular genre id. So, can't ignore all the movies with this genre id.\n",
    "\n",
    "Going forth in my research I googled more and went into their documentation and found that this ID corresponds to the genre \"Foreign\". So, added it to the dictionary of genre names manually."
   ]
  },
  {
   "cell_type": "code",
   "execution_count": 56,
   "metadata": {
    "collapsed": false
   },
   "outputs": [],
   "source": [
    "GenreIDToName[10769]=\"Foreign\" #Adding it to the dictionary"
   ]
  },
  {
   "cell_type": "code",
   "execution_count": 58,
   "metadata": {
    "collapsed": false
   },
   "outputs": [
    {
     "data": {
      "text/plain": [
       "{12: u'Adventure',\n",
       " 14: u'Fantasy',\n",
       " 16: u'Animation',\n",
       " 18: u'Drama',\n",
       " 27: u'Horror',\n",
       " 28: u'Action',\n",
       " 35: u'Comedy',\n",
       " 36: u'History',\n",
       " 37: u'Western',\n",
       " 53: u'Thriller',\n",
       " 80: u'Crime',\n",
       " 99: u'Documentary',\n",
       " 878: u'Science Fiction',\n",
       " 9648: u'Mystery',\n",
       " 10402: u'Music',\n",
       " 10749: u'Romance',\n",
       " 10751: u'Family',\n",
       " 10752: u'War',\n",
       " 10769: 'Foreign',\n",
       " 10770: u'TV Movie'}"
      ]
     },
     "execution_count": 58,
     "metadata": {},
     "output_type": "execute_result"
    }
   ],
   "source": [
    "GenreIDToName"
   ]
  },
  {
   "cell_type": "code",
   "execution_count": 59,
   "metadata": {
    "collapsed": false,
    "scrolled": true
   },
   "outputs": [
    {
     "name": "stdout",
     "output_type": "stream",
     "text": [
      "The overview for the movie Spectre  is - \n",
      "\n",
      "\n",
      "A cryptic message from Bond’s past sends him on a trail to uncover a sinister organization. While M battles political forces to keep the secret service alive, Bond peels back the layers of deceit to reveal the terrible truth behind SPECTRE.\n"
     ]
    }
   ],
   "source": [
    "#Our input feature x shall be a movie's overview/plot, so here's the plot for a movie spectre\n",
    "testMovie=moviesWithOverviews[5]\n",
    "inputFeature = testMovie['overview']\n",
    "testTitle=testMovie['title']\n",
    "print \"The overview for the movie\",testTitle,\" is - \\n\\n\"\n",
    "print inputFeature"
   ]
  },
  {
   "cell_type": "markdown",
   "metadata": {},
   "source": [
    "## Building the matrix X for input features\n",
    "\n",
    "The input matrix X is stored using \"Bag of words\" representation. \n",
    "\n",
    "Basic Idea: All distinct words that are possible in movies' overview represent a distinct object.\n",
    "Every movie overview can be thought of as a \"Bag\" containing a some of these possible objects.\n",
    " \n",
    "\n",
    "Ex - if our vocabular was 5 words - \"I\",\"am\",\"the\",\"iron\",\"man\", then the representation for the sentence \"I am iron\" would be [1 1 0 1 0], and for the sentence \"I am iron man\" would be [1 1 0 1 1].\n",
    "\n",
    "function used to perform the job:\n",
    "scikit-learn function CountVectorizer() "
   ]
  },
  {
   "cell_type": "code",
   "execution_count": 60,
   "metadata": {
    "collapsed": true
   },
   "outputs": [],
   "source": [
    "from sklearn.feature_extraction.text import CountVectorizer\n",
    "import re\n",
    "\n",
    "totalContent=[]\n",
    "for i in range(len(moviesWithOverviews)):\n",
    "    movie=moviesWithOverviews[i]\n",
    "    id=movie['id']\n",
    "    overview=movie['overview']\n",
    "    overview=overview.replace(',','')\n",
    "    overview=overview.replace('.','')\n",
    "    totalContent.append(overview)"
   ]
  },
  {
   "cell_type": "code",
   "execution_count": 62,
   "metadata": {
    "collapsed": false
   },
   "outputs": [
    {
     "name": "stdout",
     "output_type": "stream",
     "text": [
      "Based upon Marvel Comics’ most unconventional anti-hero DEADPOOL tells the origin story of former Special Forces operative turned mercenary Wade Wilson who after being subjected to a rogue experiment that leaves him with accelerated healing powers adopts the alter ego Deadpool Armed with his new abilities and a dark twisted sense of humor Deadpool hunts down the man who nearly destroyed his life\n",
      "1559\n"
     ]
    }
   ],
   "source": [
    "print totalContent[0]\n",
    "print len(totalContent)"
   ]
  },
  {
   "cell_type": "markdown",
   "metadata": {},
   "source": [
    "## Tf-IDF is being used to reduce dimensionality of the input matrix X ,\n",
    "Tf-IDf would help remove all the words that are very common (like 'the','a','an','is') from input matrix X.\n",
    "\n",
    "A good approach I think would be to exclude all words that occur in too many or too few documents, as these are very unlikely to be discriminative. This is because words that only occur in one document most probably are names, and words that occur in nearly all documents are probably stop words.\n",
    "So, implicitly without tuning min_df and max_df parameters on some validation set, I am choosing their values by guessing."
   ]
  },
  {
   "cell_type": "code",
   "execution_count": 63,
   "metadata": {
    "collapsed": true
   },
   "outputs": [],
   "source": [
    "# min_df makes sure we exclude words that occur rarely\n",
    "# max_df makes sure to exclude words that occur too frequently\n",
    "vectorize=CountVectorizer(max_df=0.95, min_df=0.005)\n",
    "X=vectorize.fit_transform(totalContent)"
   ]
  },
  {
   "cell_type": "code",
   "execution_count": 64,
   "metadata": {
    "collapsed": false
   },
   "outputs": [
    {
     "data": {
      "text/plain": [
       "(1559, 1344)"
      ]
     },
     "execution_count": 64,
     "metadata": {},
     "output_type": "execute_result"
    }
   ],
   "source": [
    "X.shape"
   ]
  },
  {
   "cell_type": "code",
   "execution_count": 66,
   "metadata": {
    "collapsed": true
   },
   "outputs": [],
   "source": [
    "#Thus,each movie's overview is represented by a (1,1344) vector"
   ]
  },
  {
   "cell_type": "code",
   "execution_count": 67,
   "metadata": {
    "collapsed": true
   },
   "outputs": [],
   "source": [
    "#f4=open('X.pckl','wb')\n",
    "#f5=open('Y.pckl','wb')\n",
    "#pickle.dump(X,f4)\n",
    "#pickle.dump(Y,f5)\n",
    "#f6=open('Genredict.pckl','wb')\n",
    "#pickle.dump(Genre_ID_to_name,f6)\n",
    "#f4.close()\n",
    "#f5.close()\n",
    "#f6.close()"
   ]
  },
  {
   "cell_type": "code",
   "execution_count": 71,
   "metadata": {
    "collapsed": false
   },
   "outputs": [],
   "source": [
    "f4=open('movies_with_overviews.pckl','wb')\n",
    "pickle.dump(moviesWithOverviews,f4)\n",
    "f4.close()\n",
    "\n",
    "#moviesWithOverviews"
   ]
  },
  {
   "cell_type": "code",
   "execution_count": 79,
   "metadata": {
    "collapsed": false
   },
   "outputs": [
    {
     "data": {
      "text/plain": [
       "[u'War',\n",
       " u'Crime',\n",
       " u'Music',\n",
       " u'Comedy',\n",
       " u'History',\n",
       " u'Western',\n",
       " u'Thriller',\n",
       " u'Mystery',\n",
       " u'Adventure',\n",
       " u'TV Movie',\n",
       " u'Fantasy',\n",
       " u'Animation',\n",
       " u'Foreign',\n",
       " u'Drama',\n",
       " u'Documentary',\n",
       " u'Science Fiction',\n",
       " u'Horror',\n",
       " u'Action',\n",
       " u'Romance',\n",
       " u'Family']"
      ]
     },
     "execution_count": 79,
     "metadata": {},
     "output_type": "execute_result"
    }
   ],
   "source": []
  },
  {
   "cell_type": "code",
   "execution_count": null,
   "metadata": {
    "collapsed": false
   },
   "outputs": [],
   "source": []
  },
  {
   "cell_type": "code",
   "execution_count": null,
   "metadata": {
    "collapsed": true
   },
   "outputs": [],
   "source": []
  }
 ],
 "metadata": {
  "kernelspec": {
   "display_name": "Python 2",
   "language": "python",
   "name": "python2"
  },
  "language_info": {
   "codemirror_mode": {
    "name": "ipython",
    "version": 2
   },
   "file_extension": ".py",
   "mimetype": "text/x-python",
   "name": "python",
   "nbconvert_exporter": "python",
   "pygments_lexer": "ipython2",
   "version": "2.7.13"
  }
 },
 "nbformat": 4,
 "nbformat_minor": 2
}
